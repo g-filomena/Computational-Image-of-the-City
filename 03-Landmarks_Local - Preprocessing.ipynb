{
 "cells": [
  {
   "cell_type": "markdown",
   "metadata": {},
   "source": [
    "## Loading land use attributes from external sources\n",
    "\n",
    "Provide a path referring to the building layer of the city/area of interest. This shouldn't be exactly your case-study area but a larger area (e.g. not Boston's city center (case-study area) but the entire city of Boston).\n",
    "Given such a layer, the \"base\" for extracting landmarks in the *02-Landmarks_Local_Files* notebook, and a set of other files, a raw land use categorisation is obtained. This will be recategorised in the *02-Landmarks_Local_Files* notebook, at a higher granularity."
   ]
  },
  {
   "cell_type": "code",
   "execution_count": 1,
   "metadata": {},
   "outputs": [],
   "source": [
    "import pandas as pd, numpy as np, geopandas as gpd, osmnx as ox\n",
    "from shapely.geometry import LineString\n",
    "%matplotlib inline\n",
    "\n",
    "import warnings\n",
    "warnings.simplefilter(action=\"ignore\")\n",
    "\n",
    "pd.set_option('precision', 5)\n",
    "pd.options.display.float_format = '{:20.2f}'.format\n",
    "pd.set_option('display.float_format', lambda x: '%.3f' % x)\n",
    "pd.options.mode.chained_assignment = None\n",
    "\n",
    "import cityImage as ci"
   ]
  },
  {
   "cell_type": "code",
   "execution_count": 2,
   "metadata": {},
   "outputs": [],
   "source": [
    "city_name = 'Boston'\n",
    "epsg = 26986 \n",
    "crs = {'init': 'epsg:26986', 'no_defs': True}\n",
    "input_path = 'Input/'+city_name+'/'\n",
    "option = 1"
   ]
  },
  {
   "cell_type": "code",
   "execution_count": 13,
   "metadata": {},
   "outputs": [],
   "source": [
    "# from local\n",
    "buildings = gpd.read_file(input_path+city_name+'_buildings.shp').to_crs(epsg=epsg)\n",
    "convex_hull_wgs = ci.convex_hull_wgs(buildings)\n",
    "osm_buildings = ci.get_buildings_fromOSM(convex_hull_wgs, 'OSMpolygon', epsg = epsg, distance = None)"
   ]
  },
  {
   "cell_type": "markdown",
   "metadata": {},
   "source": [
    "Here different land-use datasets are loaded to assign land-use categorisation to the *buildings* GDF. At the moment this part is city-dependent. From polygons GDFs: Tha land-use of the building *x* in the external GDF is assigned to the building *y* from the *buildings* GDF, only when the intersection area cover 60% of *y*. From points GDFs: simple intersection.\n",
    "\n",
    "\n",
    "*For Boston a slighlty different approach is used*"
   ]
  },
  {
   "cell_type": "markdown",
   "metadata": {},
   "source": [
    "## Loading other sources - Boston"
   ]
  },
  {
   "cell_type": "code",
   "execution_count": null,
   "metadata": {},
   "outputs": [],
   "source": [
    "# Loading polygons data: parcel from Boston Open Data Portal, buildings from OpenStreetMap\n",
    "parcels = gpd.read_file(input_path+'otherSources/'+city_name+'_parcels.shp').to_crs(epsg=epsg)\n",
    "\n",
    "# provide 3 lists:  names of the GDFs loaded; the fields where land-use information is contained; name of the new_columns\n",
    "gdfs = [parcels, osm_buildings]\n",
    "columns_lu = ['LU', 'land_use_raw']\n",
    "new_columns = ['land_use_1', 'land_use_2']\n",
    "for n, gdf in enumerate(gdfs): \n",
    "    buildings = ci.land_use_from_polygons(buildings, gdf, new_columns[n], columns_lu[n])\n",
    "\n",
    "buildings['land_use_1'][buildings['land_use_1'].isnull()] = buildings['land_use_2']"
   ]
  },
  {
   "cell_type": "code",
   "execution_count": 19,
   "metadata": {},
   "outputs": [],
   "source": [
    "# libraries, universities, schools and police stations\n",
    "\n",
    "schools = gpd.read_file(input_path+'otherSources/'+city_name+'_schools.shp').to_crs(epsg=epsg)\n",
    "universities = gpd.read_file(input_path+'otherSources/'+city_name+'_universities.shp').to_crs(epsg=epsg)\n",
    "primary_schools = gpd.read_file(input_path+'otherSources/'+city_name+'_primary_schools.shp').to_crs(epsg=epsg)\n",
    "libraries = gpd.read_file(input_path+'otherSources/'+city_name+'_libraries.shp').to_crs(epsg=epsg)\n",
    "pools = gpd.read_file(input_path+'otherSources/'+city_name+'_pools.shp').to_crs(epsg=epsg)\n",
    "police =  gpd.read_file(input_path+'otherSources/'+city_name+'_police.shp').to_crs(epsg=epsg)"
   ]
  },
  {
   "cell_type": "markdown",
   "metadata": {},
   "source": [
    "Land-use-specific datasets are also used.\n",
    "When the *land_use_1* field in the *buildings* GDF is still empty or only filled with *residential* or *commercial* values,\n",
    "the land-use-specific GDFs are used to fill in the field (when geometries intersect)."
   ]
  },
  {
   "cell_type": "code",
   "execution_count": 24,
   "metadata": {},
   "outputs": [],
   "source": [
    "gdfs = [schools, primary_schools, libraries, universities, pools, police]\n",
    "classification = ['education', 'education', 'library', 'university', 'sport', 'emergency_service']\n",
    "list_ignore = ['residential', 'commercial', None]\n",
    "\n",
    "index_geometry = buildings.columns.get_loc(\"geometry\")+1 \n",
    "index_land_use = buildings.columns.get_loc(\"land_use_1\")+1\n",
    "\n",
    "# iterate through the specif GDF and replace land-use information\n",
    "for n, gdf in enumerate(gdfs):\n",
    "    sindex = gdf.sindex # spatial index\n",
    "\n",
    "    for row in buildings.itertuples():\n",
    "        g = row[index_geometry] # geometry\n",
    "        possible_matches_index = list(sindex.intersection(g.bounds))\n",
    "        possible_matches = gdf.iloc[possible_matches_index]\n",
    "        precise_matches = possible_matches[possible_matches.intersects(g)]\n",
    "                \n",
    "        if len(precise_matches)==0: continue # buildings don't intersect\n",
    "        if row[index_land_use] not in list_ignore: continue # if there's already a land-use value continue\n",
    "        else: buildings.at[row.Index, 'land_use_1'] = classification[n]"
   ]
  },
  {
   "cell_type": "code",
   "execution_count": 30,
   "metadata": {},
   "outputs": [
    {
     "data": {
      "text/html": [
       "<div>\n",
       "<style scoped>\n",
       "    .dataframe tbody tr th:only-of-type {\n",
       "        vertical-align: middle;\n",
       "    }\n",
       "\n",
       "    .dataframe tbody tr th {\n",
       "        vertical-align: top;\n",
       "    }\n",
       "\n",
       "    .dataframe thead th {\n",
       "        text-align: right;\n",
       "    }\n",
       "</style>\n",
       "<table border=\"1\" class=\"dataframe\">\n",
       "  <thead>\n",
       "    <tr style=\"text-align: right;\">\n",
       "      <th></th>\n",
       "      <th>height</th>\n",
       "      <th>base</th>\n",
       "      <th>area</th>\n",
       "      <th>geometry</th>\n",
       "      <th>land_use_1</th>\n",
       "      <th>land_use_2</th>\n",
       "    </tr>\n",
       "  </thead>\n",
       "  <tbody>\n",
       "    <tr>\n",
       "      <th>0</th>\n",
       "      <td>8.280</td>\n",
       "      <td>0.700</td>\n",
       "      <td>1926.803</td>\n",
       "      <td>POLYGON ((237513.461 904788.149, 237504.225 90...</td>\n",
       "      <td>residential</td>\n",
       "      <td>residential</td>\n",
       "    </tr>\n",
       "    <tr>\n",
       "      <th>1</th>\n",
       "      <td>8.900</td>\n",
       "      <td>0.820</td>\n",
       "      <td>1126.634</td>\n",
       "      <td>POLYGON ((237735.701 904786.375, 237720.063 90...</td>\n",
       "      <td>residential</td>\n",
       "      <td>residential</td>\n",
       "    </tr>\n",
       "    <tr>\n",
       "      <th>2</th>\n",
       "      <td>15.370</td>\n",
       "      <td>4.710</td>\n",
       "      <td>4202.795</td>\n",
       "      <td>POLYGON ((238074.296 904592.566, 238050.666 90...</td>\n",
       "      <td>None</td>\n",
       "      <td>None</td>\n",
       "    </tr>\n",
       "    <tr>\n",
       "      <th>3</th>\n",
       "      <td>11.700</td>\n",
       "      <td>1.440</td>\n",
       "      <td>4287.751</td>\n",
       "      <td>POLYGON ((237509.030 904583.715, 237496.549 90...</td>\n",
       "      <td>residential</td>\n",
       "      <td>residential</td>\n",
       "    </tr>\n",
       "    <tr>\n",
       "      <th>4</th>\n",
       "      <td>26.640</td>\n",
       "      <td>9.310</td>\n",
       "      <td>1368.853</td>\n",
       "      <td>POLYGON ((237360.223 904640.894, 237352.406 90...</td>\n",
       "      <td>residential</td>\n",
       "      <td>residential</td>\n",
       "    </tr>\n",
       "    <tr>\n",
       "      <th>...</th>\n",
       "      <td>...</td>\n",
       "      <td>...</td>\n",
       "      <td>...</td>\n",
       "      <td>...</td>\n",
       "      <td>...</td>\n",
       "      <td>...</td>\n",
       "    </tr>\n",
       "    <tr>\n",
       "      <th>6595</th>\n",
       "      <td>11.130</td>\n",
       "      <td>3.070</td>\n",
       "      <td>474.735</td>\n",
       "      <td>POLYGON ((232562.762 901634.388, 232586.835 90...</td>\n",
       "      <td>residential</td>\n",
       "      <td>residential</td>\n",
       "    </tr>\n",
       "    <tr>\n",
       "      <th>6596</th>\n",
       "      <td>58.620</td>\n",
       "      <td>2.930</td>\n",
       "      <td>868.970</td>\n",
       "      <td>POLYGON ((232579.801 901593.751, 232586.716 90...</td>\n",
       "      <td>apartments</td>\n",
       "      <td>apartments</td>\n",
       "    </tr>\n",
       "    <tr>\n",
       "      <th>6597</th>\n",
       "      <td>16.930</td>\n",
       "      <td>1.410</td>\n",
       "      <td>2392.467</td>\n",
       "      <td>POLYGON ((232887.683 899608.367, 232906.511 89...</td>\n",
       "      <td>Commercial Land</td>\n",
       "      <td>residential</td>\n",
       "    </tr>\n",
       "    <tr>\n",
       "      <th>6598</th>\n",
       "      <td>27.700</td>\n",
       "      <td>1.170</td>\n",
       "      <td>3773.174</td>\n",
       "      <td>POLYGON ((232814.013 899628.112, 232865.439 89...</td>\n",
       "      <td>Commercial</td>\n",
       "      <td>residential</td>\n",
       "    </tr>\n",
       "    <tr>\n",
       "      <th>6599</th>\n",
       "      <td>10.370</td>\n",
       "      <td>0.950</td>\n",
       "      <td>743.388</td>\n",
       "      <td>POLYGON ((232810.102 899634.308, 232858.034 89...</td>\n",
       "      <td>Commercial</td>\n",
       "      <td>residential</td>\n",
       "    </tr>\n",
       "  </tbody>\n",
       "</table>\n",
       "<p>6600 rows × 6 columns</p>\n",
       "</div>"
      ],
      "text/plain": [
       "      height  base     area  \\\n",
       "0      8.280 0.700 1926.803   \n",
       "1      8.900 0.820 1126.634   \n",
       "2     15.370 4.710 4202.795   \n",
       "3     11.700 1.440 4287.751   \n",
       "4     26.640 9.310 1368.853   \n",
       "...      ...   ...      ...   \n",
       "6595  11.130 3.070  474.735   \n",
       "6596  58.620 2.930  868.970   \n",
       "6597  16.930 1.410 2392.467   \n",
       "6598  27.700 1.170 3773.174   \n",
       "6599  10.370 0.950  743.388   \n",
       "\n",
       "                                               geometry       land_use_1  \\\n",
       "0     POLYGON ((237513.461 904788.149, 237504.225 90...      residential   \n",
       "1     POLYGON ((237735.701 904786.375, 237720.063 90...      residential   \n",
       "2     POLYGON ((238074.296 904592.566, 238050.666 90...             None   \n",
       "3     POLYGON ((237509.030 904583.715, 237496.549 90...      residential   \n",
       "4     POLYGON ((237360.223 904640.894, 237352.406 90...      residential   \n",
       "...                                                 ...              ...   \n",
       "6595  POLYGON ((232562.762 901634.388, 232586.835 90...      residential   \n",
       "6596  POLYGON ((232579.801 901593.751, 232586.716 90...       apartments   \n",
       "6597  POLYGON ((232887.683 899608.367, 232906.511 89...  Commercial Land   \n",
       "6598  POLYGON ((232814.013 899628.112, 232865.439 89...       Commercial   \n",
       "6599  POLYGON ((232810.102 899634.308, 232858.034 89...       Commercial   \n",
       "\n",
       "       land_use_2  \n",
       "0     residential  \n",
       "1     residential  \n",
       "2            None  \n",
       "3     residential  \n",
       "4     residential  \n",
       "...           ...  \n",
       "6595  residential  \n",
       "6596   apartments  \n",
       "6597  residential  \n",
       "6598  residential  \n",
       "6599  residential  \n",
       "\n",
       "[6600 rows x 6 columns]"
      ]
     },
     "execution_count": 30,
     "metadata": {},
     "output_type": "execute_result"
    }
   ],
   "source": [
    "buildings"
   ]
  },
  {
   "cell_type": "code",
   "execution_count": 31,
   "metadata": {},
   "outputs": [],
   "source": [
    "buildings['landUse'] = buildings['land_use_1']\n",
    "buildings.drop(['land_use_1', 'land_use_2'], inplace = True, axis = 1)"
   ]
  },
  {
   "cell_type": "markdown",
   "metadata": {},
   "source": [
    "## Loading other sources - London"
   ]
  },
  {
   "cell_type": "markdown",
   "metadata": {},
   "source": [
    "Important buildings, functional sites, public tranport stations shapefiles from Ordnance Survey are loaded.\n",
    "OpenStreetMap building shapefile is loaded too before a point file with Point of Interest in London (Ordnance Survey)"
   ]
  },
  {
   "cell_type": "code",
   "execution_count": 11,
   "metadata": {},
   "outputs": [],
   "source": [
    "# polygons\n",
    "imp = gpd.read_file(input_path+'otherSources/'+city_name+'_important_buildings.shp').to_crs(epsg = epsg)\n",
    "fs = gpd.read_file(input_path+'otherSources/'+city_name+'_functional_sites.shp').to_crs(epsg = epsg)\n",
    "\n",
    "# points\n",
    "stations = gpd.read_file(input_path+'otherSources/'+city_name+'_railway_stations.shp').to_crs(epsg = epsg)\n",
    "POI = gpd.read_file(input_path+'otherSources/'+city_name+'_POI.shp').to_crs(epsg = epsg)"
   ]
  },
  {
   "cell_type": "code",
   "execution_count": null,
   "metadata": {
    "scrolled": true
   },
   "outputs": [],
   "source": [
    "# provide 3 lists:  names of the GDFs loaded; the field where land-use information is contained; name of the new_columns\n",
    "\n",
    "gdfs = [imp, fs, osm_buildings] \n",
    "columns_lu = ['BUILDGTHEM', 'SITETHEME', 'type']\n",
    "new_columns = ['land_use_1', 'land_use_2', 'land_use_3']\n",
    "\n",
    "# extracting land-use information from all the GDFs\n",
    "for n, gdf in enumerate(gdfs): \n",
    "    buildings = land_use_from_polygons(buildings, gdf, new_columns[n], columns_lu[n])"
   ]
  },
  {
   "cell_type": "code",
   "execution_count": null,
   "metadata": {},
   "outputs": [],
   "source": [
    "# same procedure for all the Point-file loaded\n",
    "gdfs = [stations, POI]\n",
    "columns_lu = ['CLASSIFICA','main']\n",
    "new_columns = ['land_use_4','land_use_5']\n",
    "\n",
    "for n, gdf in enumerate(gdfs): \n",
    "    buildings = land_use_from_points(buildings, gdf, new_columns[n], columns_lu[n])"
   ]
  },
  {
   "cell_type": "markdown",
   "metadata": {},
   "source": [
    "Please establish a hierarchy. In this case, for example, *land_use_3* is used only when all the others land-use columns\n",
    "are empty. *land_use_1* is supposed to have priority over the others (when filled)."
   ]
  },
  {
   "cell_type": "code",
   "execution_count": 14,
   "metadata": {},
   "outputs": [
    {
     "data": {
      "text/html": [
       "<div>\n",
       "<style>\n",
       "    .dataframe thead tr:only-child th {\n",
       "        text-align: right;\n",
       "    }\n",
       "\n",
       "    .dataframe thead th {\n",
       "        text-align: left;\n",
       "    }\n",
       "\n",
       "    .dataframe tbody tr th {\n",
       "        vertical-align: top;\n",
       "    }\n",
       "</style>\n",
       "<table border=\"1\" class=\"dataframe\">\n",
       "  <thead>\n",
       "    <tr style=\"text-align: right;\">\n",
       "      <th></th>\n",
       "      <th>area</th>\n",
       "      <th>base</th>\n",
       "      <th>buildingID</th>\n",
       "      <th>height</th>\n",
       "      <th>geometry</th>\n",
       "      <th>land_use_1</th>\n",
       "      <th>land_use_2</th>\n",
       "      <th>land_use_3</th>\n",
       "      <th>land_use_4</th>\n",
       "      <th>land_use_5</th>\n",
       "    </tr>\n",
       "  </thead>\n",
       "  <tbody>\n",
       "    <tr>\n",
       "      <th>0</th>\n",
       "      <td>208.221</td>\n",
       "      <td>0</td>\n",
       "      <td>30162</td>\n",
       "      <td>3.180</td>\n",
       "      <td>POLYGON ((529891.79 183628.2200000007, 529898....</td>\n",
       "      <td>Transport</td>\n",
       "      <td>None</td>\n",
       "      <td>None</td>\n",
       "      <td>None</td>\n",
       "      <td>Transport</td>\n",
       "    </tr>\n",
       "    <tr>\n",
       "      <th>1</th>\n",
       "      <td>942.013</td>\n",
       "      <td>0</td>\n",
       "      <td>30163</td>\n",
       "      <td>12.210</td>\n",
       "      <td>POLYGON ((529908.4400000004 183173.1600000001,...</td>\n",
       "      <td>None</td>\n",
       "      <td>None</td>\n",
       "      <td>None</td>\n",
       "      <td>None</td>\n",
       "      <td>None</td>\n",
       "    </tr>\n",
       "    <tr>\n",
       "      <th>2</th>\n",
       "      <td>331.740</td>\n",
       "      <td>0</td>\n",
       "      <td>30164</td>\n",
       "      <td>12.270</td>\n",
       "      <td>POLYGON ((529866.5 183238.3499999996, 529847.9...</td>\n",
       "      <td>Commercial services</td>\n",
       "      <td>None</td>\n",
       "      <td>None</td>\n",
       "      <td>None</td>\n",
       "      <td>Commercial services</td>\n",
       "    </tr>\n",
       "    <tr>\n",
       "      <th>3</th>\n",
       "      <td>1637.525</td>\n",
       "      <td>0</td>\n",
       "      <td>30165</td>\n",
       "      <td>27.820</td>\n",
       "      <td>POLYGON ((527543.29 182478.7400000002, 527460....</td>\n",
       "      <td>Attractions</td>\n",
       "      <td>None</td>\n",
       "      <td>None</td>\n",
       "      <td>None</td>\n",
       "      <td>Attractions</td>\n",
       "    </tr>\n",
       "    <tr>\n",
       "      <th>4</th>\n",
       "      <td>1441.718</td>\n",
       "      <td>0</td>\n",
       "      <td>30166</td>\n",
       "      <td>11.590</td>\n",
       "      <td>POLYGON ((527005.8700000001 182333.7400000002,...</td>\n",
       "      <td>Education</td>\n",
       "      <td>Education</td>\n",
       "      <td>None</td>\n",
       "      <td>None</td>\n",
       "      <td>Education and health</td>\n",
       "    </tr>\n",
       "  </tbody>\n",
       "</table>\n",
       "</div>"
      ],
      "text/plain": [
       "      area  base  buildingID  height  \\\n",
       "0  208.221     0       30162   3.180   \n",
       "1  942.013     0       30163  12.210   \n",
       "2  331.740     0       30164  12.270   \n",
       "3 1637.525     0       30165  27.820   \n",
       "4 1441.718     0       30166  11.590   \n",
       "\n",
       "                                            geometry           land_use_1  \\\n",
       "0  POLYGON ((529891.79 183628.2200000007, 529898....            Transport   \n",
       "1  POLYGON ((529908.4400000004 183173.1600000001,...                 None   \n",
       "2  POLYGON ((529866.5 183238.3499999996, 529847.9...  Commercial services   \n",
       "3  POLYGON ((527543.29 182478.7400000002, 527460....          Attractions   \n",
       "4  POLYGON ((527005.8700000001 182333.7400000002,...            Education   \n",
       "\n",
       "  land_use_2 land_use_3 land_use_4            land_use_5  \n",
       "0       None       None       None             Transport  \n",
       "1       None       None       None                  None  \n",
       "2       None       None       None   Commercial services  \n",
       "3       None       None       None           Attractions  \n",
       "4  Education       None       None  Education and health  "
      ]
     },
     "execution_count": 14,
     "metadata": {},
     "output_type": "execute_result"
    }
   ],
   "source": [
    "buildings['land_use_1'][buildings['land_use_1'].isnull()] = buildings['land_use_2']\n",
    "buildings['land_use_1'][buildings['land_use_1'].isnull()] = buildings['land_use_4']\n",
    "buildings['land_use_1'][buildings['land_use_1'].isnull()] = buildings['land_use_5']\n",
    "buildings['land_use_1'][buildings['land_use_1'].isnull()] = buildings['land_use_3']\n",
    "buildings.head()"
   ]
  },
  {
   "cell_type": "code",
   "execution_count": 15,
   "metadata": {},
   "outputs": [],
   "source": [
    "buildings['landUse'] = buildings['land_use_1']\n",
    "buildings.drop(['land_use_1', 'land_use_2', 'land_use_3', 'land_use_4', 'land_use_5'], axis = 1, inplace = True)"
   ]
  },
  {
   "cell_type": "markdown",
   "metadata": {},
   "source": [
    "## Saving"
   ]
  },
  {
   "cell_type": "code",
   "execution_count": 32,
   "metadata": {},
   "outputs": [],
   "source": [
    "buildings.to_file(input_path+city_name+'_obstructions.shp', driver='ESRI Shapefile')"
   ]
  }
 ],
 "metadata": {
  "kernelspec": {
   "display_name": "Python 3",
   "language": "python",
   "name": "python3"
  },
  "language_info": {
   "codemirror_mode": {
    "name": "ipython",
    "version": 3
   },
   "file_extension": ".py",
   "mimetype": "text/x-python",
   "name": "python",
   "nbconvert_exporter": "python",
   "pygments_lexer": "ipython3",
   "version": "3.7.6"
  }
 },
 "nbformat": 4,
 "nbformat_minor": 2
}
